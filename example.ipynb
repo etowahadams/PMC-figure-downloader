{
 "cells": [
  {
   "cell_type": "code",
   "execution_count": 1,
   "metadata": {},
   "outputs": [],
   "source": [
    "import polars as pl\n",
    "from main import download_imgs, search_pmc, extract_pmc_figures"
   ]
  },
  {
   "cell_type": "markdown",
   "metadata": {},
   "source": [
    "## Search PMC"
   ]
  },
  {
   "cell_type": "code",
   "execution_count": 2,
   "metadata": {},
   "outputs": [
    {
     "name": "stdout",
     "output_type": "stream",
     "text": [
      "Found 1316 papers. Getting their IDs...\n",
      "Finished getting 10 IDs.\n"
     ]
    }
   ],
   "source": [
    "query = '\"Nature Genetics\"[Journal] AND \"open access\"[filter]'\n",
    "result_ids = search_pmc(query, email=\"etowahadams@gmail.com\", max_results=10, retmax=10)"
   ]
  },
  {
   "cell_type": "markdown",
   "metadata": {},
   "source": [
    "## Extract figure information from PMC articles"
   ]
  },
  {
   "cell_type": "code",
   "execution_count": 3,
   "metadata": {},
   "outputs": [
    {
     "name": "stdout",
     "output_type": "stream",
     "text": [
      "Getting paper 1 of 10...\n",
      "Getting paper 2 of 10...\n",
      "Getting paper 3 of 10...\n",
      "Getting paper 4 of 10...\n",
      "Getting paper 5 of 10...\n",
      "Getting paper 6 of 10...\n",
      "Getting paper 7 of 10...\n",
      "Getting paper 8 of 10...\n",
      "Getting paper 9 of 10...\n",
      "Getting paper 10 of 10...\n"
     ]
    },
    {
     "data": {
      "text/html": [
       "<div><style>\n",
       ".dataframe > thead > tr,\n",
       ".dataframe > tbody > tr {\n",
       "  text-align: right;\n",
       "  white-space: pre-wrap;\n",
       "}\n",
       "</style>\n",
       "<small>shape: (109, 6)</small><table border=\"1\" class=\"dataframe\"><thead><tr><th>pmcid</th><th>fig_id</th><th>fig_label</th><th>fig_title</th><th>fig_desc</th><th>image_url</th></tr><tr><td>str</td><td>str</td><td>str</td><td>str</td><td>str</td><td>str</td></tr></thead><tbody><tr><td>&quot;10937393&quot;</td><td>&quot;Fig1&quot;</td><td>&quot;Fig. 1&quot;</td><td>&quot;FANS-based iso…</td><td>&quot;a, Schematic r…</td><td>&quot;https://www.nc…</td></tr><tr><td>&quot;10937393&quot;</td><td>&quot;Fig2&quot;</td><td>&quot;Fig. 2&quot;</td><td>&quot;Purity and rep…</td><td>&quot;a, Heatmaps de…</td><td>&quot;https://www.nc…</td></tr><tr><td>&quot;10937393&quot;</td><td>&quot;Fig3&quot;</td><td>&quot;Fig. 3&quot;</td><td>&quot;mHTT CAG tract…</td><td>&quot;a, Length dist…</td><td>&quot;https://www.nc…</td></tr><tr><td>&quot;10937393&quot;</td><td>&quot;Fig4&quot;</td><td>&quot;Fig. 4&quot;</td><td>&quot;Expansion of m…</td><td>&quot;a,b, Length di…</td><td>&quot;https://www.nc…</td></tr><tr><td>&quot;10937393&quot;</td><td>&quot;Fig5&quot;</td><td>&quot;Fig. 5&quot;</td><td>&quot;MSNs are prone…</td><td>&quot;a, Length dist…</td><td>&quot;https://www.nc…</td></tr><tr><td>&hellip;</td><td>&hellip;</td><td>&hellip;</td><td>&hellip;</td><td>&hellip;</td><td>&hellip;</td></tr><tr><td>&quot;10864173&quot;</td><td>&quot;Fig1&quot;</td><td>&quot;Fig. 1&quot;</td><td>&quot;Scheme of an a…</td><td>&quot;Individual-lev…</td><td>&quot;https://www.nc…</td></tr><tr><td>&quot;10864173&quot;</td><td>&quot;Fig2&quot;</td><td>&quot;Fig. 2&quot;</td><td>&quot;Case study 1: …</td><td>&quot;a, Breakdown o…</td><td>&quot;https://www.nc…</td></tr><tr><td>&quot;10864173&quot;</td><td>&quot;Fig3&quot;</td><td>&quot;Fig. 3&quot;</td><td>&quot;Case study 2: …</td><td>&quot;a, Breakdown o…</td><td>&quot;https://www.nc…</td></tr><tr><td>&quot;10864173&quot;</td><td>&quot;Fig4&quot;</td><td>&quot;Fig. 4&quot;</td><td>&quot;Evaluation of …</td><td>&quot;a, Mean call r…</td><td>&quot;https://www.nc…</td></tr><tr><td>&quot;10864173&quot;</td><td>&quot;Fig5&quot;</td><td>&quot;Fig. 5&quot;</td><td>&quot;Breast cancer …</td><td>&quot;a, Workflow sc…</td><td>&quot;https://www.nc…</td></tr></tbody></table></div>"
      ],
      "text/plain": [
       "shape: (109, 6)\n",
       "┌──────────┬────────┬───────────┬──────────────────────┬─────────────────────┬─────────────────────┐\n",
       "│ pmcid    ┆ fig_id ┆ fig_label ┆ fig_title            ┆ fig_desc            ┆ image_url           │\n",
       "│ ---      ┆ ---    ┆ ---       ┆ ---                  ┆ ---                 ┆ ---                 │\n",
       "│ str      ┆ str    ┆ str       ┆ str                  ┆ str                 ┆ str                 │\n",
       "╞══════════╪════════╪═══════════╪══════════════════════╪═════════════════════╪═════════════════════╡\n",
       "│ 10937393 ┆ Fig1   ┆ Fig. 1    ┆ FANS-based isolation ┆ a, Schematic        ┆ https://www.ncbi.nl │\n",
       "│          ┆        ┆           ┆ of nuclei o…         ┆ representation of   ┆ m.nih.gov/pmc…      │\n",
       "│          ┆        ┆           ┆                      ┆ t…                  ┆                     │\n",
       "│ 10937393 ┆ Fig2   ┆ Fig. 2    ┆ Purity and           ┆ a, Heatmaps depict  ┆ https://www.ncbi.nl │\n",
       "│          ┆        ┆           ┆ reproducibility of   ┆ log2-transfor…      ┆ m.nih.gov/pmc…      │\n",
       "│          ┆        ┆           ┆ th…                  ┆                     ┆                     │\n",
       "│ 10937393 ┆ Fig3   ┆ Fig. 3    ┆ mHTT CAG tract       ┆ a, Length           ┆ https://www.ncbi.nl │\n",
       "│          ┆        ┆           ┆ undergoes somatic…   ┆ distribution of     ┆ m.nih.gov/pmc…      │\n",
       "│          ┆        ┆           ┆                      ┆ mHTT C…             ┆                     │\n",
       "│ 10937393 ┆ Fig4   ┆ Fig. 4    ┆ Expansion of mHTT    ┆ a,b, Length         ┆ https://www.ncbi.nl │\n",
       "│          ┆        ┆           ┆ CAG tract in c…      ┆ distribution of     ┆ m.nih.gov/pmc…      │\n",
       "│          ┆        ┆           ┆                      ┆ mHTT…               ┆                     │\n",
       "│ 10937393 ┆ Fig5   ┆ Fig. 5    ┆ MSNs are prone to    ┆ a, Length           ┆ https://www.ncbi.nl │\n",
       "│          ┆        ┆           ┆ somatic expans…      ┆ distribution of     ┆ m.nih.gov/pmc…      │\n",
       "│          ┆        ┆           ┆                      ┆ mATXN3…             ┆                     │\n",
       "│ …        ┆ …      ┆ …         ┆ …                    ┆ …                   ┆ …                   │\n",
       "│ 10864173 ┆ Fig1   ┆ Fig. 1    ┆ Scheme of an         ┆ Individual-level    ┆ https://www.ncbi.nl │\n",
       "│          ┆        ┆           ┆ association study w… ┆ genotype data a…    ┆ m.nih.gov/pmc…      │\n",
       "│ 10864173 ┆ Fig2   ┆ Fig. 2    ┆ Case study 1:        ┆ a, Breakdown of     ┆ https://www.ncbi.nl │\n",
       "│          ┆        ┆           ┆ simulated case–con…  ┆ continental ance…   ┆ m.nih.gov/pmc…      │\n",
       "│ 10864173 ┆ Fig3   ┆ Fig. 3    ┆ Case study 2:        ┆ a, Breakdown of     ┆ https://www.ncbi.nl │\n",
       "│          ┆        ┆           ┆ simulated case–con…  ┆ fine-scale ances…   ┆ m.nih.gov/pmc…      │\n",
       "│ 10864173 ┆ Fig4   ┆ Fig. 4    ┆ Evaluation of        ┆ a, Mean call rate   ┆ https://www.ncbi.nl │\n",
       "│          ┆        ┆           ┆ platform bias effe…  ┆ across all sam…     ┆ m.nih.gov/pmc…      │\n",
       "│ 10864173 ┆ Fig5   ┆ Fig. 5    ┆ Breast cancer        ┆ a, Workflow scheme  ┆ https://www.ncbi.nl │\n",
       "│          ┆        ┆           ┆ samples (N = 244) …  ┆ for associati…      ┆ m.nih.gov/pmc…      │\n",
       "└──────────┴────────┴───────────┴──────────────────────┴─────────────────────┴─────────────────────┘"
      ]
     },
     "execution_count": 3,
     "metadata": {},
     "output_type": "execute_result"
    }
   ],
   "source": [
    "figure_data = extract_pmc_figures(result_ids)\n",
    "figure_data.write_parquet(\"figure_data.parquet\")\n",
    "figure_data"
   ]
  },
  {
   "cell_type": "markdown",
   "metadata": {},
   "source": [
    "## Download figures"
   ]
  },
  {
   "cell_type": "code",
   "execution_count": 4,
   "metadata": {},
   "outputs": [
    {
     "name": "stdout",
     "output_type": "stream",
     "text": [
      "Downloading image 1 of 109...\n",
      "Downloading image 2 of 109...\n",
      "Downloading image 3 of 109...\n",
      "Downloading image 4 of 109...\n",
      "Downloading image 5 of 109...\n",
      "Downloading image 6 of 109...\n",
      "Downloading image 7 of 109...\n",
      "Downloading image 8 of 109...\n",
      "Downloading image 9 of 109...\n",
      "Downloading image 10 of 109...\n",
      "Downloading image 11 of 109...\n",
      "Downloading image 12 of 109...\n",
      "Downloading image 13 of 109...\n",
      "Downloading image 14 of 109...\n",
      "Downloading image 15 of 109...\n",
      "Downloading image 16 of 109...\n",
      "Downloading image 17 of 109...\n",
      "Downloading image 18 of 109...\n",
      "Downloading image 19 of 109...\n",
      "Downloading image 20 of 109...\n",
      "Downloading image 21 of 109...\n",
      "Downloading image 22 of 109...\n",
      "Downloading image 23 of 109...\n",
      "Downloading image 24 of 109...\n",
      "Downloading image 25 of 109...\n",
      "Downloading image 26 of 109...\n",
      "Downloading image 27 of 109...\n",
      "Downloading image 28 of 109...\n",
      "Downloading image 29 of 109...\n",
      "Downloading image 30 of 109...\n",
      "Downloading image 31 of 109...\n",
      "Downloading image 32 of 109...\n",
      "Downloading image 33 of 109...\n",
      "Downloading image 34 of 109...\n",
      "Downloading image 35 of 109...\n",
      "Downloading image 36 of 109...\n",
      "Downloading image 37 of 109...\n",
      "Downloading image 38 of 109...\n",
      "Downloading image 39 of 109...\n",
      "Downloading image 40 of 109...\n",
      "Downloading image 41 of 109...\n",
      "Downloading image 42 of 109...\n",
      "Downloading image 43 of 109...\n",
      "Downloading image 44 of 109...\n",
      "Downloading image 45 of 109...\n",
      "Downloading image 46 of 109...\n",
      "Downloading image 47 of 109...\n",
      "Downloading image 48 of 109...\n",
      "Downloading image 49 of 109...\n",
      "Downloading image 50 of 109...\n",
      "Downloading image 51 of 109...\n",
      "Downloading image 52 of 109...\n",
      "Downloading image 53 of 109...\n",
      "Downloading image 54 of 109...\n",
      "Downloading image 55 of 109...\n",
      "Downloading image 56 of 109...\n",
      "Downloading image 57 of 109...\n",
      "Downloading image 58 of 109...\n",
      "Downloading image 59 of 109...\n",
      "Downloading image 60 of 109...\n",
      "Downloading image 61 of 109...\n",
      "Downloading image 62 of 109...\n",
      "Downloading image 63 of 109...\n",
      "Downloading image 64 of 109...\n",
      "Downloading image 65 of 109...\n",
      "Downloading image 66 of 109...\n",
      "Downloading image 67 of 109...\n",
      "Downloading image 68 of 109...\n",
      "Downloading image 69 of 109...\n",
      "Downloading image 70 of 109...\n",
      "Downloading image 71 of 109...\n",
      "Downloading image 72 of 109...\n",
      "Downloading image 73 of 109...\n",
      "Downloading image 74 of 109...\n",
      "Downloading image 75 of 109...\n",
      "Downloading image 76 of 109...\n",
      "Downloading image 77 of 109...\n",
      "Downloading image 78 of 109...\n",
      "Downloading image 79 of 109...\n",
      "Downloading image 80 of 109...\n",
      "Downloading image 81 of 109...\n",
      "Downloading image 82 of 109...\n",
      "Downloading image 83 of 109...\n",
      "Downloading image 84 of 109...\n",
      "Downloading image 85 of 109...\n",
      "Downloading image 86 of 109...\n",
      "Downloading image 87 of 109...\n",
      "Downloading image 88 of 109...\n",
      "Downloading image 89 of 109...\n",
      "Downloading image 90 of 109...\n",
      "Downloading image 91 of 109...\n",
      "Downloading image 92 of 109...\n",
      "Downloading image 93 of 109...\n",
      "Downloading image 94 of 109...\n",
      "Downloading image 95 of 109...\n",
      "Downloading image 96 of 109...\n",
      "Downloading image 97 of 109...\n",
      "Downloading image 98 of 109...\n",
      "Downloading image 99 of 109...\n",
      "Downloading image 100 of 109...\n",
      "Downloading image 101 of 109...\n",
      "Downloading image 102 of 109...\n",
      "Downloading image 103 of 109...\n",
      "Downloading image 104 of 109...\n",
      "Downloading image 105 of 109...\n",
      "Downloading image 106 of 109...\n",
      "Downloading image 107 of 109...\n",
      "Downloading image 108 of 109...\n",
      "Downloading image 109 of 109...\n",
      "Failed downloads:\n"
     ]
    },
    {
     "data": {
      "text/html": [
       "<div><style>\n",
       ".dataframe > thead > tr,\n",
       ".dataframe > tbody > tr {\n",
       "  text-align: right;\n",
       "  white-space: pre-wrap;\n",
       "}\n",
       "</style>\n",
       "<small>shape: (0, 3)</small><table border=\"1\" class=\"dataframe\"><thead><tr><th>pmcid</th><th>fig_id</th><th>status</th></tr><tr><td>str</td><td>str</td><td>i64</td></tr></thead><tbody></tbody></table></div>"
      ],
      "text/plain": [
       "shape: (0, 3)\n",
       "┌───────┬────────┬────────┐\n",
       "│ pmcid ┆ fig_id ┆ status │\n",
       "│ ---   ┆ ---    ┆ ---    │\n",
       "│ str   ┆ str    ┆ i64    │\n",
       "╞═══════╪════════╪════════╡\n",
       "└───────┴────────┴────────┘"
      ]
     },
     "execution_count": 4,
     "metadata": {},
     "output_type": "execute_result"
    }
   ],
   "source": [
    "output_dir = \"img\"\n",
    "download_status = download_imgs(figure_data, output_dir)\n",
    "print(\"Failed downloads:\")\n",
    "download_status.filter(pl.col(\"status\") != 200)"
   ]
  }
 ],
 "metadata": {
  "kernelspec": {
   "display_name": "env",
   "language": "python",
   "name": "python3"
  },
  "language_info": {
   "codemirror_mode": {
    "name": "ipython",
    "version": 3
   },
   "file_extension": ".py",
   "mimetype": "text/x-python",
   "name": "python",
   "nbconvert_exporter": "python",
   "pygments_lexer": "ipython3",
   "version": "3.9.18"
  }
 },
 "nbformat": 4,
 "nbformat_minor": 2
}
